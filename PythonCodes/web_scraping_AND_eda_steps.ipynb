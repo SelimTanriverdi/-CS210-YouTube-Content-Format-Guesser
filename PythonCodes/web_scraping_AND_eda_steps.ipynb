{
 "cells": [
  {
   "cell_type": "code",
   "execution_count": 7,
   "id": "49227cf8-b797-419e-b2d3-3b0be0b073d5",
   "metadata": {},
   "outputs": [],
   "source": [
    "from bs4 import BeautifulSoup\n",
    "import pandas as pd\n",
    "\n",
    "#code for functions which will convert html data into pandas dataframe, as well as removing NULL values and formatting some of the fields.\n",
    "\n",
    "def duration_to_seconds(duration_str):\n",
    "    if type(duration_str) == type(\"a\"):\n",
    "        # Split the duration string by ':'\n",
    "        parts = duration_str.split(':')\n",
    "    \n",
    "        # Convert the parts to integers\n",
    "        parts = [int(part) for part in parts]\n",
    "    \n",
    "        # Calculate total seconds depending on the number of parts\n",
    "        if len(parts) == 3:  # Format is hours:minutes:seconds\n",
    "            return parts[0] * 3600 + parts[1] * 60 + parts[2]\n",
    "        elif len(parts) == 2:  # Format is minutes:seconds\n",
    "            return parts[0] * 60 + parts[1]\n",
    "        else:\n",
    "            return 0  # Return 0 or handle as an error for unexpected format\n",
    "    return 0\n",
    "\n",
    "def determine_video_type(row):\n",
    "    if row['YouTube Music']: return 'Music'\n",
    "    elif row['Video Duration'] < 62: return 'Shorts'\n",
    "    else: return 'Video'\n",
    "        \n",
    "def dataFrameFormatter(df, monthShort):\n",
    "    df = df[df['Date'].apply(lambda x: x.split(' ')[1] == monthShort if pd.notnull(x) else False)]\n",
    "    df = df.drop_duplicates(subset='Title', keep='first')\n",
    "    df = df[df['Video Duration'] != 0]\n",
    "    df = df.reset_index(drop=True)\n",
    "    df['Video Type'] = df.apply(determine_video_type, axis=1)\n",
    "    df.drop(columns=['YouTube Music'], inplace=True)\n",
    "    return df\n",
    "\n",
    "def htmlToDataFrameConverter(monthShort,monthLong):\n",
    "    file_path = 'HTML Files/'+monthLong+'.html'\n",
    "    with open(file_path, 'r', encoding='utf-8') as file:\n",
    "        html_content = file.read()\n",
    "    \n",
    "    dict = { \"Date\": [], \"Title\": [],\"Title Length\":[], \"Time\": [], \"Video Duration\": [], \"YouTube Music\": [] }\n",
    "    \n",
    "    soup = BeautifulSoup(html_content, \"html.parser\")    \n",
    "    activities = soup.find_all(\"div\", class_=\"GqCJpe u2cbPc LDk2Pd\")\n",
    "    # Extract data from each activity\n",
    "    for activity in activities:\n",
    "        # Extract date\n",
    "        date = activity.find_previous(\"h2\").text if activity.find_previous(\"h2\") else None\n",
    "        dict[\"Date\"].append(date)\n",
    "        # Extract video title\n",
    "        title = activity.find(\"a\", class_=\"l8sGWb\").text if activity.find(\"a\", class_=\"l8sGWb\") else None\n",
    "        dict[\"Title\"].append(title)\n",
    "        dict[\"Title Length\"].append(len(title) if type(title) == type(\"a\") else 0)\n",
    "        # Extract time of activity\n",
    "        time = activity.find(\"div\", class_=\"H3Q9vf XTnvW\").text.split(\"•\")[0].strip() if activity.find(\"div\", class_=\"H3Q9vf XTnvW\") else None\n",
    "        dict[\"Time\"].append(time)\n",
    "        # Extract video duration\n",
    "        video_duration = activity.find(\"div\", class_=\"bI9urf\").text if activity.find(\"div\", class_=\"bI9urf\") else None\n",
    "        dict[\"Video Duration\"].append(duration_to_seconds(video_duration))\n",
    "        # Check if it's YouTube Music content\n",
    "        is_youtube_music = 'YouTube Music' in activity.text\n",
    "        dict[\"YouTube Music\"].append(is_youtube_music)\n",
    "    \n",
    "    return dataFrameFormatter(pd.DataFrame(dict),monthShort)\n",
    "         \n",
    "\n",
    "\n"
   ]
  },
  {
   "cell_type": "code",
   "execution_count": 12,
   "id": "4318e06a-9c91-424e-8d03-c64b849b9b59",
   "metadata": {},
   "outputs": [
    {
     "name": "stdout",
     "output_type": "stream",
     "text": [
      "January\n",
      "February\n",
      "March\n",
      "April\n",
      "May\n",
      "June\n",
      "July\n",
      "August\n",
      "September\n",
      "October\n",
      "November\n",
      "December\n"
     ]
    }
   ],
   "source": [
    "month_keywords = {\"Oca\":\"January\",\"Şub\":\"February\",\"Mar\":\"March\",\"Nis\":\"April\",\"May\":\"May\",\"Haz\":\"June\",\n",
    "                  \"Tem\":\"July\",\"Ağu\":\"August\",\"Eyl\":\"September\",\"Eki\":\"October\",\"Kas\":\"November\",\"Ara\":\"December\"}\n",
    "monthDFS = []\n",
    "for a in month_keywords.keys():\n",
    "    monthDFS.append(htmlToDataFrameConverter(a,month_keywords[a]).drop([\"Title\"],axis=1))\n",
    "    print(month_keywords[a])"
   ]
  },
  {
   "cell_type": "code",
   "execution_count": 13,
   "id": "edd060b8-d76d-48e3-810d-df10df01bee7",
   "metadata": {},
   "outputs": [
    {
     "name": "stdout",
     "output_type": "stream",
     "text": [
      "0\n",
      "1\n",
      "2\n",
      "3\n",
      "4\n",
      "5\n",
      "6\n",
      "7\n",
      "8\n",
      "9\n",
      "10\n",
      "11\n"
     ]
    }
   ],
   "source": [
    "#code to combine monthly dataframes into one dataframe, as well as saving monthly data one by one.\n",
    "\n",
    "month_names = [\"January\",\"February\",\"March\",\"April\",\"May\",\"June\",\"July\",\"August\",\"September\",\"October\",\"November\",\"December\"]\n",
    "for a in range(12):\n",
    "    monthDFS[a].to_excel(month_names[a] + \"_history.xlsx\", index=False, engine='openpyxl')\n",
    "    print(a)\n",
    "\n",
    "combined_df = pd.concat(monthDFS, ignore_index=True)\n",
    "combined_df.to_excel(\"2023_data_v1.xlsx\",index=False,engine = 'openpyxl')"
   ]
  },
  {
   "cell_type": "code",
   "execution_count": 14,
   "id": "530b60f3-4963-4ca2-9a40-f1a1dd624f14",
   "metadata": {},
   "outputs": [],
   "source": [
    "#code to extract the hour, month, and the day of the week the video is watched\n",
    "\n",
    "import locale \n",
    "from datetime import datetime\n",
    "\n",
    "locale.setlocale(locale.LC_TIME, 'tr_TR')\n",
    "\n",
    "# Function to convert date string to month and weekday\n",
    "def extract_month_weekday(date_str):\n",
    "    # Parse the date string\n",
    "    date_obj = datetime.strptime(date_str, '%d %b %Y')\n",
    "    \n",
    "    # Extract month and weekday (Python weekdays start from 0 (Monday) to 6 (Sunday))\n",
    "    return date_obj.month, date_obj.weekday() + 1\n",
    "\n",
    "# Function to extract hour from time\n",
    "def extract_hour(time_str):\n",
    "    hour = int(time_str.split(':')[0])\n",
    "    return hour\n",
    "\n",
    "combined_df['Month'], combined_df['Weekday'] = zip(*combined_df['Date'].apply(extract_month_weekday))\n",
    "combined_df['Hour'] = combined_df['Time'].apply(extract_hour)\n",
    "\n",
    "# Drop the 'Date' and 'Time' columns\n",
    "combined_df.drop(columns=['Date', 'Time'], inplace=True)\n",
    "combined_df.to_excel(\"2023_data_v2.xlsx\",index=False,engine = 'openpyxl')"
   ]
  },
  {
   "cell_type": "code",
   "execution_count": 10,
   "id": "6a6998c4-e788-4682-b619-00f24df097d8",
   "metadata": {},
   "outputs": [],
   "source": []
  },
  {
   "cell_type": "code",
   "execution_count": null,
   "id": "5cb3e8e8-8375-4739-9344-61fff5c31e76",
   "metadata": {},
   "outputs": [],
   "source": []
  }
 ],
 "metadata": {
  "kernelspec": {
   "display_name": "Python 3 (ipykernel)",
   "language": "python",
   "name": "python3"
  },
  "language_info": {
   "codemirror_mode": {
    "name": "ipython",
    "version": 3
   },
   "file_extension": ".py",
   "mimetype": "text/x-python",
   "name": "python",
   "nbconvert_exporter": "python",
   "pygments_lexer": "ipython3",
   "version": "3.10.8"
  }
 },
 "nbformat": 4,
 "nbformat_minor": 5
}
